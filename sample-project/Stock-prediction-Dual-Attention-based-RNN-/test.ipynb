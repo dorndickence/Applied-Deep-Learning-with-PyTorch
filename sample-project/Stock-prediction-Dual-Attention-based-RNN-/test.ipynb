{
 "cells": [
  {
   "cell_type": "code",
   "execution_count": 1,
   "metadata": {},
   "outputs": [],
   "source": [
    "import numpy as np\n",
    "import pandas as pd\n",
    "import matplotlib.pyplot as plt\n",
    "import torch\n",
    "from torch import nn\n",
    "from torch.autograd import Variable\n",
    "from torch import optim\n",
    "import torch.nn.functional as F\n",
    "from torch.utils.data import Dataset, DataLoader\n",
    "from torchvision import transforms, utils\n",
    "import os\n",
    "from os import listdir\n",
    "from os.path import isfile, join"
   ]
  },
  {
   "cell_type": "code",
   "execution_count": 2,
   "metadata": {},
   "outputs": [],
   "source": [
    "device = torch.device(\"cuda\" if torch.cuda.is_available() else \"cpu\")"
   ]
  },
  {
   "cell_type": "code",
   "execution_count": 3,
   "metadata": {},
   "outputs": [],
   "source": [
    "train_df=pd.read_csv('data/train.csv')\n",
    "validation_df=pd.read_csv('data/validation.csv')\n",
    "validation_df=pd.concat([train_df[-9:],validation_df])\n",
    "validation_df=validation_df.reset_index(drop=True)\n",
    "test_df=pd.read_csv('data/test.csv')\n",
    "train_df.drop(['High price', 'Low Price', 'Date'],axis=1,inplace=True)\n",
    "validation_df.drop(['High price', 'Low Price', 'Date'],axis=1,inplace=True)\n",
    "test_df.drop(['High price', 'Low Price','Date'],axis=1,inplace=True)"
   ]
  },
  {
   "cell_type": "code",
   "execution_count": 4,
   "metadata": {},
   "outputs": [],
   "source": [
    "class dataprep(Dataset):\n",
    "    def __init__(self, dataframe):\n",
    "        self.df=dataframe\n",
    "    def __len__(self):\n",
    "        return self.df.shape[0]-10\n",
    "    def __getitem__(self,idx):\n",
    "        if (idx+10<self.df.shape[0]):\n",
    "            X=torch.from_numpy(self.df.drop('Closing Price',axis=1)[idx:idx+10].values)\n",
    "            targets=torch.from_numpy(self.df['Closing Price'][idx:idx+9].values)\n",
    "            y=torch.tensor([self.df['Closing Price'].loc[idx+9]])\n",
    "            return ({'X':X, 'targets':targets, 'y': y})"
   ]
  },
  {
   "cell_type": "code",
   "execution_count": 5,
   "metadata": {},
   "outputs": [],
   "source": [
    "train_set=dataprep(dataframe=train_df)\n",
    "validation_set=dataprep(dataframe=validation_df)\n",
    "test_set=dataprep(dataframe=test_df)"
   ]
  },
  {
   "cell_type": "code",
   "execution_count": 6,
   "metadata": {},
   "outputs": [],
   "source": [
    "train_loader = DataLoader(train_set, batch_size=15, shuffle=True)\n",
    "val_loader = DataLoader(validation_set, batch_size=1, shuffle=False)\n",
    "test_loader = DataLoader(test_set, batch_size=1, shuffle=False)"
   ]
  },
  {
   "cell_type": "code",
   "execution_count": 7,
   "metadata": {},
   "outputs": [],
   "source": [
    "class EncoderRNN(nn.Module):\n",
    "    def __init__(self,encoder_input_size=16,encoder_hidden_size=64, time_steps=10):\n",
    "        super(EncoderRNN,self).__init__()\n",
    "        self.input_size=encoder_input_size\n",
    "        #input_size=n\n",
    "        self.hidden_size=encoder_hidden_size\n",
    "        #hidden_size=1\n",
    "        self.t_steps=time_steps\n",
    "        #time_steps=10\n",
    "        \n",
    "        self.input_attention=nn.Linear(time_steps+encoder_hidden_size,1)\n",
    "        self.rnn=nn.GRU(self.input_size, self.hidden_size)\n",
    "        \n",
    "    def forward(self,encoder_input,batch_size):\n",
    "        #encoder_input:batch,T,n\n",
    "        encoder_input=encoder_input.permute(0,2,1) #batch,n,T\n",
    "        #print (encoder_input.size())\n",
    "        hidden=self.initHidden(batch_size) #hidden : 1,batch,hidden_size\n",
    "        #print (hidden.size())\n",
    "        encoded = torch.zeros(batch_size, self.t_steps, self.hidden_size,device=device) #encoded: 1,T,hidden_size\n",
    "        #print(encoded.size())\n",
    "        for t in range(self.t_steps):\n",
    "            x=torch.cat((hidden.repeat(self.input_size,1,1).permute(1,0,2),encoder_input),dim=2)\n",
    "            #print (x.size())\n",
    "            #x:batch,n,T+hidden_size\n",
    "            x=x.view(-1,self.t_steps+self.hidden_size)\n",
    "            #print (x.size())\n",
    "            #x:batch*n,T+hidden_size\n",
    "            x=F.softmax((self.input_attention(x)).view(-1,self.input_size),dim=1)\n",
    "            #print (x.size())\n",
    "            #print(encoder_input[:,t,:].size())\n",
    "            #x:batch,n\n",
    "            x=torch.mul(x,encoder_input[:,:,t])\n",
    "            #print (x.size())\n",
    "            #x:1,n\n",
    "            output, hidden=self.rnn(x.unsqueeze(0), hidden)\n",
    "            #print (output.size(), hidden.size())\n",
    "            encoded[:,t,:]=hidden\n",
    "            #output,hidden:1,1,hidden\n",
    "        return encoded\n",
    "    \n",
    "    def initHidden(self,batch_size):\n",
    "        return torch.zeros(1, batch_size, self.hidden_size, device=device)"
   ]
  },
  {
   "cell_type": "code",
   "execution_count": 8,
   "metadata": {},
   "outputs": [],
   "source": [
    "class DecoderRNN(nn.Module):\n",
    "    def __init__(self,decoder_hidden_size=64,encoder_hidden_size=64,decoder_input_size=1, time_steps=10):\n",
    "        super(DecoderRNN,self).__init__()\n",
    "        self.decoder_hidden_size=decoder_hidden_size\n",
    "        self.encoder_hidden_size=encoder_hidden_size\n",
    "        self.decoder_input_size=decoder_input_size\n",
    "        self.t_steps=time_steps\n",
    "        \n",
    "        self.temporal_attention=nn.Linear(decoder_hidden_size+encoder_hidden_size, 1)\n",
    "        self.rnn=nn.GRU(decoder_input_size,decoder_hidden_size)\n",
    "        self.fc1 = nn.Linear(encoder_hidden_size + 1, 1)\n",
    "        self.fc2 = nn.Linear(decoder_hidden_size + encoder_hidden_size, 1)\n",
    "        \n",
    "    def forward(self,encoded,y_history,batch_size):\n",
    "        #encoded: batch,T,hidden_size\n",
    "        #print (encoded.size())\n",
    "        \n",
    "        #y_history: batch,T-1\n",
    "        hidden=self.initHidden(batch_size) #hidden:1,batch,hidden_size\n",
    "        #print (hidden.size())\n",
    "        for t in range(self.t_steps):\n",
    "            x=torch.cat((hidden.repeat(self.t_steps,1,1).permute(1,0,2), encoded), dim=2) \n",
    "            #x:batch,T,enc_hidden_size+dec_hidden_size\n",
    "            x=F.softmax(self.temporal_attention(x.view(-1,self.decoder_hidden_size+self.encoder_hidden_size)).view(-1,self.t_steps), dim=1)\n",
    "            #x:batch,T\n",
    "            x=torch.bmm(x.unsqueeze(1), encoded)[:,0,:]\n",
    "            #x:batch,hidden_size\n",
    "            if (t < self.t_steps-1):\n",
    "                y_tilda=self.fc1(torch.cat((x, y_history[:, t].unsqueeze(1)), dim=1))\n",
    "                output, hidden=self.rnn(y_tilda.unsqueeze(0), hidden)\n",
    "        y_pred=self.fc2(torch.cat((hidden[0], x), dim = 1))\n",
    "            \n",
    "        return y_pred\n",
    "                \n",
    "        \n",
    "    def initHidden(self,batch_size):\n",
    "        return torch.zeros(1, batch_size, self.decoder_hidden_size, device=device)\n",
    "    "
   ]
  },
  {
   "cell_type": "code",
   "execution_count": 9,
   "metadata": {},
   "outputs": [],
   "source": [
    "def test(encoder,decoder, test_loader, loss_criterion):\n",
    "    eval_loss=0\n",
    "    y_predicted=[]\n",
    "    y_actual=[]\n",
    "    with torch.no_grad():\n",
    "        for i,sample in enumerate(test_loader):\n",
    "            x=Variable(sample['X'].type(torch.cuda.FloatTensor))\n",
    "            y=Variable(sample['targets'].type(torch.cuda.FloatTensor))\n",
    "            y_true=Variable(sample['y'].type(torch.cuda.FloatTensor))\n",
    "            encoded=encoder(x,1)\n",
    "            y_pred=decoder(encoded,y,1)\n",
    "        \n",
    "            loss=loss_criterion(y_pred,y_true)\n",
    "            eval_loss+=loss.item()\n",
    "            y_predicted.append(y_pred.item())\n",
    "            y_actual.append(y_true.item())\n",
    "    \n",
    "    return eval_loss, y_predicted, y_actual"
   ]
  },
  {
   "cell_type": "code",
   "execution_count": 10,
   "metadata": {},
   "outputs": [],
   "source": [
    "def pp(y_pred,y_true):\n",
    "    r=0\n",
    "    for t in range(0,len(y_pred)-1):\n",
    "        if((y_pred[t+1]>y_pred[t] and y_true[t+1]>y_true[t]) or (y_pred[t+1]<y_pred[t] and y_true[t+1]<y_true[t])):\n",
    "            r=r+1\n",
    "    return r/len(y_pred)"
   ]
  },
  {
   "cell_type": "code",
   "execution_count": 11,
   "metadata": {},
   "outputs": [],
   "source": [
    "def cdr(y_pred,y_true):\n",
    "    r=0\n",
    "    num_stocks=0\n",
    "    B=0.0025\n",
    "    S=0.0045\n",
    "    for t in range(0,len(y_pred)-1):\n",
    "        if(y_pred[t+1]>y_pred[t]):\n",
    "            num_stocks+=1\n",
    "            a=y_true[t+1]\n",
    "            b=y_true[t]\n",
    "            r=r+((a-b+b*B+a*S)/b)\n",
    "        elif(y_pred[t+1]>y_pred[t] and num_stocks>0):\n",
    "            num_stocks=0\n",
    "            a=y_true[t+1]\n",
    "            b=y_true[t]\n",
    "            r=r+((b-a+a*B+b*S)/b)\n",
    "    return r"
   ]
  },
  {
   "cell_type": "code",
   "execution_count": 12,
   "metadata": {},
   "outputs": [
    {
     "data": {
      "image/png": "[encoded data removed]",
      "text/plain": [
       "<Figure size 864x288 with 1 Axes>"
      ]
     },
     "metadata": {
      "needs_background": "light"
     },
     "output_type": "display_data"
    },
    {
     "name": "stdout",
     "output_type": "stream",
     "text": [
      "Cumulative return: 0.3301787383192455 | Profitability Performance: 0.9259259259259259 | MSE Loss: 0.00038453443135821885\n"
     ]
    }
   ],
   "source": [
    "encoder=EncoderRNN().cuda()\n",
    "decoder = DecoderRNN().cuda()\n",
    "encoder_optimizer = optim.Adam(encoder.parameters())\n",
    "decoder_optimizer = optim.Adam(decoder.parameters())\n",
    "criterion=nn.MSELoss()\n",
    "    \n",
    "checkpoint = torch.load('models/OpenPrice/model_947.pth')\n",
    "encoder.load_state_dict(checkpoint['encoder_state_dict'])\n",
    "decoder.load_state_dict(checkpoint['decoder_state_dict'])\n",
    "encoder_optimizer.load_state_dict(checkpoint['encoder_optimizer_state_dict'])\n",
    "decoder_optimizer.load_state_dict(checkpoint['decoder_optimizer_state_dict'])\n",
    "encoder.eval()\n",
    "decoder.eval()\n",
    "\n",
    "eval_loss,y_pred,y_true=test(encoder,decoder, test_loader, criterion)\n",
    "pred_perf=pp(y_pred,y_true)\n",
    "daily_returns=cdr(y_pred,y_true)\n",
    "    \n",
    "plt.figure(figsize=(12,4))\n",
    "plt.plot(range(1,len(y_pred)+1),y_pred,color='red',label='Predcited')\n",
    "plt.plot(range(1,len(y_true)+1),y_true,color='blue',label='True')\n",
    "plt.ylabel('Scaled Index')\n",
    "plt.xticks([1,10,20,30,40,50],['Day 1', 'Day 10', 'Day 20', 'Day 30', 'Day 40', 'Day 50'])\n",
    "plt.legend()\n",
    "plt.show()\n",
    "print ('Cumulative return: {} | Profitability Performance: {} | MSE Loss: {}'.format(daily_returns, pred_perf, eval_loss))\n",
    "    "
   ]
  },
  {
   "cell_type": "code",
   "execution_count": 17,
   "metadata": {},
   "outputs": [
    {
     "data": {
      "image/png": "[encoded data removed]",
      "text/plain": [
       "<Figure size 432x288 with 1 Axes>"
      ]
     },
     "metadata": {
      "needs_background": "light"
     },
     "output_type": "display_data"
    }
   ],
   "source": [
    "a=test_df['Open Price'].values\n",
    "a=a[-54:]\n",
    "plt.scatter(y_pred-a,y_true-a)\n",
    "plt.ylabel('Closing Price - Opening Price (true)')\n",
    "plt.xlabel('Closing Price - Opening Price (predicted)')\n",
    "plt.show()"
   ]
  },
  {
   "cell_type": "code",
   "execution_count": 16,
   "metadata": {},
   "outputs": [
    {
     "data": {
      "text/plain": [
       "array([[1.        , 0.72497275],\n",
       "       [0.72497275, 1.        ]])"
      ]
     },
     "execution_count": 16,
     "metadata": {},
     "output_type": "execute_result"
    }
   ],
   "source": [
    "np.corrcoef(y_pred-a,y_true-a)"
   ]
  },
  {
   "cell_type": "code",
   "execution_count": null,
   "metadata": {},
   "outputs": [],
   "source": []
  }
 ],
 "metadata": {
  "kernelspec": {
   "display_name": "Python 3",
   "language": "python",
   "name": "python3"
  },
  "language_info": {
   "codemirror_mode": {
    "name": "ipython",
    "version": 3
   },
   "file_extension": ".py",
   "mimetype": "text/x-python",
   "name": "python",
   "nbconvert_exporter": "python",
   "pygments_lexer": "ipython3",
   "version": "3.6.6"
  }
 },
 "nbformat": 4,
 "nbformat_minor": 2
}
